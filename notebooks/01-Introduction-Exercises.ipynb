{
 "cells": [
  {
   "cell_type": "markdown",
   "metadata": {},
   "source": [
    "# Chapter 1 - Introduction - Exercises"
   ]
  },
  {
   "cell_type": "markdown",
   "metadata": {},
   "source": [
    "**1-1 Independence versus conditional independence.** Consider x and y independent Guassian random variables with zero mean and unity variance.\n",
    "\n",
    "<a id=\"ex1-q\"></a>1. For an arbitrary new random variable does the following hold?\n",
    "\n",
    "$$\n",
    "p(x,y \\ | \\ z) = p(x \\ | \\ z)p(y \\ | \\ z)\\\\\n",
    "$$\n",
    "\n",
    "<a id=\"ex1-a\"></a>**Answer**\n",
    "\n",
    "**No**, this does not hold in general. It holds only if x and y are independent to z.\n",
    "\n",
    "i.e.\n",
    "\n",
    "$$\n",
    "p(x,z) = p(x)p(z)\\\\\n",
    "p(x,z) = p(y)p(z)\\\\\n",
    "$$\n",
    "\n",
    "This can be shown by using the definition of conditional probability and independent events\n",
    "\n",
    "By the definition of conditional probability:\n",
    "$$\n",
    "p(x,y \\ | \\ z) = p(x \\ | \\ z)p(y \\ | \\ z)\\\\\n",
    "\\frac{p(x,y,z)}{p(z)} = \\frac{p(x,z)}{p(z)} \\frac{p(y,z)}{p(z)}\n",
    "$$\n",
    "\n",
    "By the definition of independence:\n",
    "$$\n",
    "p(x,y,z) = p(x)p(y)p(z)\\\\\n",
    "p(x,z) = p(x)p(z)\\\\\n",
    "p(y,z) = p(y)p(z)\n",
    "$$\n",
    "\n",
    "Therefore,\n",
    "$$\n",
    "\\frac{p(x,y,z)}{p(z)} = \\frac{p(x,z)}{p(z)} \\frac{p(y,z)}{p(z)}\\\\\n",
    "\\frac{p(x)p(y)p(z)}{p(z)} = \\frac{p(x)p(z)}{p(z)} \\frac{p(y)p(z)}{p(z)}\n",
    "$$\n",
    "\n",
    "Eliminating $p(z)$ from the numerator and denominator:\n",
    "$$\n",
    "p(x)p(y) = p(x)p(y)\n",
    "$$"
   ]
  }
 ],
 "metadata": {
  "kernelspec": {
   "display_name": "Python 3",
   "language": "python",
   "name": "python3"
  },
  "language_info": {
   "codemirror_mode": {
    "name": "ipython",
    "version": 3
   },
   "file_extension": ".py",
   "mimetype": "text/x-python",
   "name": "python",
   "nbconvert_exporter": "python",
   "pygments_lexer": "ipython3",
   "version": "3.6.4"
  }
 },
 "nbformat": 4,
 "nbformat_minor": 2
}
